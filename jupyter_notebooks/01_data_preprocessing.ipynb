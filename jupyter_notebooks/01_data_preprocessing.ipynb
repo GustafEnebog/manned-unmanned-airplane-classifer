{
 "cells": [
  {
   "cell_type": "markdown",
   "metadata": {},
   "source": [
    "# **ADD HERE THE NOTEBOOK NAME**"
   ]
  },
  {
   "cell_type": "markdown",
   "metadata": {},
   "source": [
    "## Objectives\n",
    "\n",
    "* Write here your notebook objective, for example, \"Fetch data from Kaggle and save as raw data\", or \"engineer features for modelling\"\n",
    "\n",
    "## Inputs\n",
    "\n",
    "* Write here which data or information you need to run the notebook\n",
    "\n",
    "## Outputs\n",
    "\n",
    "* Write here which files, code or artefacts you generate by the end of the notebook\n",
    "\n",
    "## Additional Comments\n",
    "\n",
    "\n",
    "* In case you have any additional comments that don't fit in the previous bullets, please state them here.\n"
   ]
  },
  {
   "cell_type": "markdown",
   "metadata": {},
   "source": [
    "---"
   ]
  },
  {
   "cell_type": "markdown",
   "metadata": {},
   "source": [
    "# Install python packages in the notebooks"
   ]
  },
  {
   "cell_type": "markdown",
   "metadata": {},
   "source": [
    "<span style=\"color:red;\">IMPORTANT!!! Change \"ml-template-forked\" to the name that you have given your GitHub/GitPod Workspace.</span>"
   ]
  },
  {
   "cell_type": "code",
   "execution_count": 3,
   "metadata": {},
   "outputs": [
    {
     "name": "stdout",
     "output_type": "stream",
     "text": [
      "Defaulting to user installation because normal site-packages is not writeable\n",
      "Requirement already satisfied: numpy>=1.25 in /workspace/.pyenv_mirror/user/current/lib/python3.10/site-packages (from -r /workspace/manned-unmanned-airplane-classifer/requirements.txt (line 1)) (2.2.6)\n",
      "Requirement already satisfied: pandas>=2.0 in /workspace/.pyenv_mirror/user/current/lib/python3.10/site-packages (from -r /workspace/manned-unmanned-airplane-classifer/requirements.txt (line 2)) (2.3.0)\n",
      "Requirement already satisfied: scikit-learn>=1.3 in /workspace/.pyenv_mirror/user/current/lib/python3.10/site-packages (from -r /workspace/manned-unmanned-airplane-classifer/requirements.txt (line 3)) (1.7.0)\n",
      "Requirement already satisfied: joblib>=1.3 in /workspace/.pyenv_mirror/user/current/lib/python3.10/site-packages (from -r /workspace/manned-unmanned-airplane-classifer/requirements.txt (line 4)) (1.5.1)\n",
      "Requirement already satisfied: matplotlib>=3.7 in /workspace/.pyenv_mirror/user/current/lib/python3.10/site-packages (from -r /workspace/manned-unmanned-airplane-classifer/requirements.txt (line 5)) (3.10.3)\n",
      "Collecting seaborn>=0.12\n",
      "  Downloading seaborn-0.13.2-py3-none-any.whl (294 kB)\n",
      "\u001b[2K     \u001b[90m━━━━━━━━━━━━━━━━━━━━━━━━━━━━━━━━━━━━━━━\u001b[0m \u001b[32m294.9/294.9 KB\u001b[0m \u001b[31m9.8 MB/s\u001b[0m eta \u001b[36m0:00:00\u001b[0m\n",
      "\u001b[?25hRequirement already satisfied: pytz>=2020.1 in /workspace/.pyenv_mirror/user/current/lib/python3.10/site-packages (from pandas>=2.0->-r /workspace/manned-unmanned-airplane-classifer/requirements.txt (line 2)) (2025.2)\n",
      "Requirement already satisfied: python-dateutil>=2.8.2 in /workspace/.pyenv_mirror/user/current/lib/python3.10/site-packages (from pandas>=2.0->-r /workspace/manned-unmanned-airplane-classifer/requirements.txt (line 2)) (2.9.0.post0)\n",
      "Requirement already satisfied: tzdata>=2022.7 in /workspace/.pyenv_mirror/user/current/lib/python3.10/site-packages (from pandas>=2.0->-r /workspace/manned-unmanned-airplane-classifer/requirements.txt (line 2)) (2025.2)\n",
      "Requirement already satisfied: threadpoolctl>=3.1.0 in /workspace/.pyenv_mirror/user/current/lib/python3.10/site-packages (from scikit-learn>=1.3->-r /workspace/manned-unmanned-airplane-classifer/requirements.txt (line 3)) (3.6.0)\n",
      "Requirement already satisfied: scipy>=1.8.0 in /workspace/.pyenv_mirror/user/current/lib/python3.10/site-packages (from scikit-learn>=1.3->-r /workspace/manned-unmanned-airplane-classifer/requirements.txt (line 3)) (1.15.3)\n",
      "Requirement already satisfied: contourpy>=1.0.1 in /workspace/.pyenv_mirror/user/current/lib/python3.10/site-packages (from matplotlib>=3.7->-r /workspace/manned-unmanned-airplane-classifer/requirements.txt (line 5)) (1.3.2)\n",
      "Requirement already satisfied: packaging>=20.0 in /workspace/.pyenv_mirror/user/current/lib/python3.10/site-packages (from matplotlib>=3.7->-r /workspace/manned-unmanned-airplane-classifer/requirements.txt (line 5)) (25.0)\n",
      "Requirement already satisfied: pyparsing>=2.3.1 in /usr/lib/python3/dist-packages (from matplotlib>=3.7->-r /workspace/manned-unmanned-airplane-classifer/requirements.txt (line 5)) (2.4.7)\n",
      "Requirement already satisfied: pillow>=8 in /workspace/.pyenv_mirror/user/current/lib/python3.10/site-packages (from matplotlib>=3.7->-r /workspace/manned-unmanned-airplane-classifer/requirements.txt (line 5)) (11.2.1)\n",
      "Requirement already satisfied: fonttools>=4.22.0 in /workspace/.pyenv_mirror/user/current/lib/python3.10/site-packages (from matplotlib>=3.7->-r /workspace/manned-unmanned-airplane-classifer/requirements.txt (line 5)) (4.58.4)\n",
      "Requirement already satisfied: cycler>=0.10 in /workspace/.pyenv_mirror/user/current/lib/python3.10/site-packages (from matplotlib>=3.7->-r /workspace/manned-unmanned-airplane-classifer/requirements.txt (line 5)) (0.12.1)\n",
      "Requirement already satisfied: kiwisolver>=1.3.1 in /workspace/.pyenv_mirror/user/current/lib/python3.10/site-packages (from matplotlib>=3.7->-r /workspace/manned-unmanned-airplane-classifer/requirements.txt (line 5)) (1.4.8)\n",
      "Requirement already satisfied: six>=1.5 in /usr/lib/python3/dist-packages (from python-dateutil>=2.8.2->pandas>=2.0->-r /workspace/manned-unmanned-airplane-classifer/requirements.txt (line 2)) (1.16.0)\n",
      "Installing collected packages: seaborn\n",
      "Successfully installed seaborn-0.13.2\n",
      "Note: you may need to restart the kernel to use updated packages.\n"
     ]
    }
   ],
   "source": [
    "%pip install -r /workspace/manned-unmanned-airplane-classifer/requirements.txt"
   ]
  },
  {
   "cell_type": "markdown",
   "metadata": {},
   "source": [
    "---"
   ]
  },
  {
   "cell_type": "markdown",
   "metadata": {},
   "source": [
    "# Change working directory"
   ]
  },
  {
   "cell_type": "markdown",
   "metadata": {},
   "source": [
    "* We are assuming you will store the notebooks in a subfolder, therefore when running the notebook in the editor, you will need to change the working directory.  \n",
    "\n",
    "We need to change the working directory from its current folder to its parent folder\n",
    "* We access the current directory with os.getcwd()"
   ]
  },
  {
   "cell_type": "code",
   "execution_count": 2,
   "metadata": {},
   "outputs": [
    {
     "data": {
      "text/plain": [
       "'/workspace/manned-unmanned-airplane-classifer/jupyter_notebooks'"
      ]
     },
     "execution_count": 2,
     "metadata": {},
     "output_type": "execute_result"
    }
   ],
   "source": [
    "import os\n",
    "current_dir = os.getcwd()\n",
    "current_dir"
   ]
  },
  {
   "cell_type": "markdown",
   "metadata": {},
   "source": [
    "We want to make the parent of the current directory the new current directory.\n",
    "* os.path.dirname() gets the parent directory\n",
    "* os.chir() defines the new current directory"
   ]
  },
  {
   "cell_type": "code",
   "execution_count": 3,
   "metadata": {},
   "outputs": [
    {
     "name": "stdout",
     "output_type": "stream",
     "text": [
      "You set a new current directory\n"
     ]
    }
   ],
   "source": [
    "os.chdir(os.path.dirname(current_dir))\n",
    "print(\"You set a new current directory\")"
   ]
  },
  {
   "cell_type": "markdown",
   "metadata": {},
   "source": [
    "Confirm the new current directory"
   ]
  },
  {
   "cell_type": "code",
   "execution_count": 4,
   "metadata": {},
   "outputs": [
    {
     "data": {
      "text/plain": [
       "'/workspace/manned-unmanned-airplane-classifer'"
      ]
     },
     "execution_count": 4,
     "metadata": {},
     "output_type": "execute_result"
    }
   ],
   "source": [
    "current_dir = os.getcwd()\n",
    "current_dir"
   ]
  },
  {
   "cell_type": "markdown",
   "metadata": {},
   "source": [
    "---"
   ]
  },
  {
   "cell_type": "code",
   "execution_count": null,
   "metadata": {},
   "outputs": [],
   "source": []
  },
  {
   "cell_type": "markdown",
   "metadata": {},
   "source": [
    "---"
   ]
  },
  {
   "cell_type": "markdown",
   "metadata": {},
   "source": [
    "## Table of Content\n",
    "\n",
    "- [Section 1](#section-1)\n",
    "- [Section 2](#section-2)\n",
    "- [Save files to workspace](#save-files-to-workspace)\n"
   ]
  },
  {
   "cell_type": "markdown",
   "metadata": {},
   "source": [
    "---"
   ]
  },
  {
   "cell_type": "markdown",
   "metadata": {},
   "source": [
    "# Biplanes vs Monoplanes from 1930s to early 1940s"
   ]
  },
  {
   "cell_type": "markdown",
   "metadata": {},
   "source": [
    "new"
   ]
  },
  {
   "cell_type": "code",
   "execution_count": null,
   "metadata": {},
   "outputs": [],
   "source": [
    "# --- Step 1: Import Libraries\n",
    "import pandas as pd\n",
    "import numpy as np\n",
    "import seaborn as sns\n",
    "import matplotlib.pyplot as plt\n",
    "from sklearn.model_selection import train_test_split\n",
    "from sklearn.preprocessing import StandardScaler\n",
    "import joblib"
   ]
  },
  {
   "cell_type": "code",
   "execution_count": null,
   "metadata": {},
   "outputs": [],
   "source": [
    "# --- Step 2: Load Data\n",
    "data = {\n",
    "    'Name': [\n",
    "        'Bristol F.2', 'Sopwith Camel', 'SPAD S.XIII', 'Curtiss JN-4', 'Albatros D.V',\n",
    "        'Nieuport 17', 'Fokker Dr.I', 'Airco DH.2', 'Rumpler C.I', 'Morane-Saulnier L',\n",
    "        'P-51 Mustang', 'F-86 Sabre', 'MiG-15', 'Spitfire Mk IX', 'Messerschmitt Bf 109',\n",
    "        'Hawker Hurricane', 'Yak-3', 'F4U Corsair', 'P-38 Lightning', 'Focke-Wulf Fw 190'\n",
    "    ],\n",
    "    'Manufacturer': [\n",
    "        'Bristol', 'Sopwith', 'SPAD', 'Curtiss', 'Albatros',\n",
    "        'Nieuport', 'Fokker', 'Airco', 'Rumpler', 'Morane-Saulnier',\n",
    "        'North American', 'North American', 'Mikoyan-Gurevich', 'Supermarine', 'Messerschmitt',\n",
    "        'Hawker', 'Yakovlev', 'Vought', 'Lockheed', 'Focke-Wulf'\n",
    "    ],\n",
    "    'FirstFlight': [\n",
    "        1916, 1917, 1917, 1915, 1917,\n",
    "        1916, 1917, 1915, 1915, 1915,\n",
    "        1940, 1947, 1947, 1942, 1937,\n",
    "        1935, 1944, 1940, 1939, 1939\n",
    "    ],\n",
    "    'Wingspan': [\n",
    "        9.8, 10.0, 9.7, 11.4, 9.4, 7.9, 8.9, 9.5, 13.9, 9.8,\n",
    "        11.3, 9.0, 12.2, 9.8, 10.6, 11.0, 10.7, 11.0, 10.5, 10.0\n",
    "    ],\n",
    "    'MaxSpeed': [\n",
    "        414, 430, 441, 295, 195, 183, 175, 370, 222, 210,\n",
    "        470, 525, 547, 470, 500, 460, 390, 510, 520, 592\n",
    "    ],\n",
    "    'Weight': [\n",
    "        2300, 2200, 2300, 2800, 1700, 670, 830, 1650, 3500, 1220,\n",
    "        2200, 2000, 2950, 2400, 2450, 2350, 2000, 2600, 2800, 2700\n",
    "    ],\n",
    "    'Label': [\n",
    "        0, 0, 0, 0, 0, 0, 0, 0, 0, 0,\n",
    "        1, 1, 1, 1, 1, 1, 1, 1, 1, 1\n",
    "    ],\n",
    "    'Notes': [\n",
    "        '', 'Used in WW1', None, 'Trainer', 'Scout',\n",
    "        '!', '  ', 'Experimental', 'Recon', ' ',\n",
    "        'WW2 fighter', None, 'Korean War', 'iconic', 'fighter',\n",
    "        None, 'lightweight', '', 'Long range', None\n",
    "    ]\n",
    "}\n",
    "\n",
    "df = pd.DataFrame(data)"
   ]
  },
  {
   "cell_type": "code",
   "execution_count": null,
   "metadata": {},
   "outputs": [],
   "source": [
    "# --- Step 3: Initial Data Inspection\n",
    "print(\"Head of the dataset:\")\n",
    "print(df.head(), \"\\n\")\n",
    "\n",
    "print(\"Dataset Info:\")\n",
    "print(df.info(), \"\\n\")\n",
    "\n",
    "print(\"Statistical Summary:\")\n",
    "print(df.describe(include='all'), \"\\n\")"
   ]
  },
  {
   "cell_type": "code",
   "execution_count": null,
   "metadata": {},
   "outputs": [],
   "source": [
    "# --- Step 4: Clean Data\n",
    "# Drop non-numeric or irrelevant columns\n",
    "df.drop(columns=['Notes'], inplace=True)\n",
    "\n",
    "# Drop missing values just in case (optional, dataset appears clean)\n",
    "df.dropna(inplace=True)"
   ]
  },
  {
   "cell_type": "code",
   "execution_count": null,
   "metadata": {},
   "outputs": [],
   "source": [
    "# --- Step 5: Feature Matrix and Target Vector\n",
    "X = df[['Wingspan', 'MaxSpeed', 'Weight', 'FirstFlight']]\n",
    "y = df['Label']"
   ]
  },
  {
   "cell_type": "code",
   "execution_count": null,
   "metadata": {},
   "outputs": [],
   "source": [
    "# --- Step 6: Train/Test Split\n",
    "X_train, X_test, y_train, y_test = train_test_split(\n",
    "    X, y, test_size=0.2, random_state=42, stratify=y\n",
    ")"
   ]
  },
  {
   "cell_type": "code",
   "execution_count": null,
   "metadata": {},
   "outputs": [],
   "source": [
    "# --- Step 7: Standardize Features\n",
    "scaler = StandardScaler()\n",
    "X_train_scaled = scaler.fit_transform(X_train)\n",
    "X_test_scaled = scaler.transform(X_test)"
   ]
  },
  {
   "cell_type": "code",
   "execution_count": null,
   "metadata": {},
   "outputs": [],
   "source": [
    "# --- Step 8: Save Preprocessed Data for Reuse\n",
    "joblib.dump((X_train_scaled, X_test_scaled, y_train, y_test), 'aircraft_data_scaled.pkl')"
   ]
  },
  {
   "cell_type": "code",
   "execution_count": null,
   "metadata": {},
   "outputs": [
    {
     "name": "stdout",
     "output_type": "stream",
     "text": [
      "Head of the dataset:\n",
      "            Name Manufacturer  FirstFlight  Wingspan  MaxSpeed  Weight  Label  \\\n",
      "0    Bristol F.2      Bristol         1916       9.8       414    2300      0   \n",
      "1  Sopwith Camel      Sopwith         1917      10.0       430    2200      0   \n",
      "2    SPAD S.XIII         SPAD         1917       9.7       441    2300      0   \n",
      "3   Curtiss JN-4      Curtiss         1915      11.4       295    2800      0   \n",
      "4   Albatros D.V     Albatros         1917       9.4       195    1700      0   \n",
      "\n",
      "         Notes  \n",
      "0               \n",
      "1  Used in WW1  \n",
      "2         None  \n",
      "3      Trainer  \n",
      "4        Scout   \n",
      "\n",
      "Dataset Info:\n",
      "<class 'pandas.core.frame.DataFrame'>\n",
      "RangeIndex: 20 entries, 0 to 19\n",
      "Data columns (total 8 columns):\n",
      " #   Column        Non-Null Count  Dtype  \n",
      "---  ------        --------------  -----  \n",
      " 0   Name          20 non-null     object \n",
      " 1   Manufacturer  20 non-null     object \n",
      " 2   FirstFlight   20 non-null     int64  \n",
      " 3   Wingspan      20 non-null     float64\n",
      " 4   MaxSpeed      20 non-null     int64  \n",
      " 5   Weight        20 non-null     int64  \n",
      " 6   Label         20 non-null     int64  \n",
      " 7   Notes         16 non-null     object \n",
      "dtypes: float64(1), int64(4), object(3)\n",
      "memory usage: 1.4+ KB\n",
      "None \n",
      "\n",
      "Statistical Summary:\n",
      "               Name    Manufacturer  FirstFlight   Wingspan    MaxSpeed  \\\n",
      "count            20              20    20.000000  20.000000   20.000000   \n",
      "unique           20              19          NaN        NaN         NaN   \n",
      "top     Bristol F.2  North American          NaN        NaN         NaN   \n",
      "freq              1               2          NaN        NaN         NaN   \n",
      "mean            NaN             NaN  1928.500000  10.320000  395.950000   \n",
      "std             NaN             NaN    13.132924   1.301659  134.945398   \n",
      "min             NaN             NaN  1915.000000   7.900000  175.000000   \n",
      "25%             NaN             NaN  1916.000000   9.650000  276.750000   \n",
      "50%             NaN             NaN  1926.000000  10.000000  435.500000   \n",
      "75%             NaN             NaN  1940.000000  11.000000  502.500000   \n",
      "max             NaN             NaN  1947.000000  13.900000  592.000000   \n",
      "\n",
      "             Weight      Label Notes  \n",
      "count     20.000000  20.000000    16  \n",
      "unique          NaN        NaN    15  \n",
      "top             NaN        NaN        \n",
      "freq            NaN        NaN     2  \n",
      "mean    2181.000000   0.500000   NaN  \n",
      "std      700.788278   0.512989   NaN  \n",
      "min      670.000000   0.000000   NaN  \n",
      "25%     1925.000000   0.000000   NaN  \n",
      "50%     2300.000000   0.500000   NaN  \n",
      "75%     2625.000000   1.000000   NaN  \n",
      "max     3500.000000   1.000000   NaN   \n",
      "\n"
     ]
    },
    {
     "data": {
      "image/png": "[encoded data removed]",
      "text/plain": [
       "<Figure size 800x600 with 1 Axes>"
      ]
     },
     "metadata": {},
     "output_type": "display_data"
    }
   ],
   "source": [
    "# --- Step 9: Visualize Class Distribution (MaxSpeed vs Wingspan)\n",
    "plot_df = df[['Wingspan', 'MaxSpeed', 'Label']].copy()\n",
    "plot_df['Label'] = plot_df['Label'].map({0: 'Biplane', 1: 'Monoplane'})\n",
    "\n",
    "plt.figure(figsize=(8, 6))\n",
    "sns.scatterplot(\n",
    "    data=plot_df,\n",
    "    x='Wingspan',\n",
    "    y='MaxSpeed',\n",
    "    hue='Label',\n",
    "    palette={'Biplane': 'blue', 'Monoplane': 'orange'},\n",
    "    s=100\n",
    ")\n",
    "plt.title('Aircraft Classes: MaxSpeed vs Wingspan')\n",
    "plt.xlabel('Wingspan (m)')\n",
    "plt.ylabel('MaxSpeed (km/h)')\n",
    "plt.grid(True)\n",
    "plt.legend(title='Class')\n",
    "plt.tight_layout()\n",
    "plt.show()\n"
   ]
  },
  {
   "cell_type": "markdown",
   "metadata": {},
   "source": [
    "---"
   ]
  },
  {
   "cell_type": "markdown",
   "metadata": {},
   "source": [
    "# Section 2"
   ]
  },
  {
   "cell_type": "markdown",
   "metadata": {},
   "source": [
    "\n",
    "Section 2 content"
   ]
  },
  {
   "cell_type": "markdown",
   "metadata": {},
   "source": [
    "---"
   ]
  },
  {
   "cell_type": "markdown",
   "metadata": {},
   "source": [
    "# Save files to workspace"
   ]
  },
  {
   "cell_type": "markdown",
   "metadata": {},
   "source": [
    "We will generate the following files\n",
    "* Train set\n",
    "* Test set\n",
    "* Data cleaning and Feature Engineering pipeline\n",
    "* Modeling pipeline\n",
    "* etc."
   ]
  },
  {
   "cell_type": "code",
   "execution_count": null,
   "metadata": {},
   "outputs": [],
   "source": [
    "topic = 'topic'  # datasets\n",
    "notebook = 'notebook'  # collections\n",
    "version = 'v1'\n",
    "file_path = f'outputs/{notebook}/{notebook}/{version}'\n",
    "\n",
    "try:\n",
    "    os.makedirs(name=file_path)\n",
    "except Exception as e:\n",
    "    print(e)"
   ]
  },
  {
   "cell_type": "code",
   "execution_count": null,
   "metadata": {},
   "outputs": [],
   "source": [
    "import os\n",
    "try:\n",
    "  os.makedirs(name='outputs/datasets/collection') # create outputs/datasets/collection folder\n",
    "except Exception as e:\n",
    "  print(e)\n",
    "\n",
    "df.to_csv(f\"outputs/datasets/collection/TelcoCustomerChurn.csv\",index=False)"
   ]
  },
  {
   "cell_type": "markdown",
   "metadata": {},
   "source": [
    "## Train Set"
   ]
  },
  {
   "cell_type": "markdown",
   "metadata": {},
   "source": [
    "Note that ..."
   ]
  },
  {
   "cell_type": "code",
   "execution_count": null,
   "metadata": {},
   "outputs": [],
   "source": [
    "print(X_train.shape)\n",
    "X_train.head()"
   ]
  },
  {
   "cell_type": "markdown",
   "metadata": {},
   "source": [
    "X_train.to_csv(f\"{file_path}/X_train.csv\", index=False)"
   ]
  },
  {
   "cell_type": "code",
   "execution_count": null,
   "metadata": {},
   "outputs": [],
   "source": [
    "y_train"
   ]
  },
  {
   "cell_type": "code",
   "execution_count": null,
   "metadata": {},
   "outputs": [],
   "source": [
    "y_train.to_csv(f\"{file_path}/y_train.csv\", index=False)"
   ]
  }
 ],
 "metadata": {
  "kernelspec": {
   "display_name": "Python 3",
   "language": "python",
   "name": "python3"
  },
  "language_info": {
   "codemirror_mode": {
    "name": "ipython",
    "version": 3
   },
   "file_extension": ".py",
   "mimetype": "text/x-python",
   "name": "python",
   "nbconvert_exporter": "python",
   "pygments_lexer": "ipython3",
   "version": "3.10.12"
  }
 },
 "nbformat": 4,
 "nbformat_minor": 2
}
