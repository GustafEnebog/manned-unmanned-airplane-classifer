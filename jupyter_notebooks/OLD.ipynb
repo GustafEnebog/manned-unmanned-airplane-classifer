{
 "cells": [
  {
   "cell_type": "markdown",
   "metadata": {},
   "source": [
    "# **ADD HERE THE NOTEBOOK NAME**"
   ]
  },
  {
   "cell_type": "markdown",
   "metadata": {},
   "source": [
    "## Objectives\n",
    "\n",
    "* Write here your notebook objective, for example, \"Fetch data from Kaggle and save as raw data\", or \"engineer features for modelling\"\n",
    "\n",
    "## Inputs\n",
    "\n",
    "* Write here which data or information you need to run the notebook\n",
    "\n",
    "## Outputs\n",
    "\n",
    "* Write here which files, code or artefacts you generate by the end of the notebook\n",
    "\n",
    "## Additional Comments\n",
    "\n",
    "\n",
    "* In case you have any additional comments that don't fit in the previous bullets, please state them here.\n"
   ]
  },
  {
   "cell_type": "markdown",
   "metadata": {},
   "source": [
    "---"
   ]
  },
  {
   "cell_type": "markdown",
   "metadata": {},
   "source": [
    "# Install python packages in the notebooks"
   ]
  },
  {
   "cell_type": "markdown",
   "metadata": {},
   "source": [
    "<span style=\"color:red;\">IMPORTANT!!! Change \"ml-template-forked\" to the name that you have given your GitHub/GitPod Workspace.</span>"
   ]
  },
  {
   "cell_type": "code",
   "execution_count": 1,
   "metadata": {},
   "outputs": [
    {
     "name": "stdout",
     "output_type": "stream",
     "text": [
      "Defaulting to user installation because normal site-packages is not writeable\n",
      "Requirement already satisfied: numpy>=1.25 in /workspace/.pyenv_mirror/user/current/lib/python3.10/site-packages (from -r /workspace/manned-unmanned-airplane-classifer/requirements.txt (line 1)) (2.2.6)\n",
      "Requirement already satisfied: pandas>=2.0 in /workspace/.pyenv_mirror/user/current/lib/python3.10/site-packages (from -r /workspace/manned-unmanned-airplane-classifer/requirements.txt (line 2)) (2.3.0)\n",
      "Requirement already satisfied: scikit-learn>=1.3 in /workspace/.pyenv_mirror/user/current/lib/python3.10/site-packages (from -r /workspace/manned-unmanned-airplane-classifer/requirements.txt (line 3)) (1.7.0)\n",
      "Requirement already satisfied: joblib>=1.3 in /workspace/.pyenv_mirror/user/current/lib/python3.10/site-packages (from -r /workspace/manned-unmanned-airplane-classifer/requirements.txt (line 4)) (1.5.1)\n",
      "Requirement already satisfied: matplotlib>=3.7 in /workspace/.pyenv_mirror/user/current/lib/python3.10/site-packages (from -r /workspace/manned-unmanned-airplane-classifer/requirements.txt (line 5)) (3.10.3)\n",
      "Requirement already satisfied: python-dateutil>=2.8.2 in /workspace/.pyenv_mirror/user/current/lib/python3.10/site-packages (from pandas>=2.0->-r /workspace/manned-unmanned-airplane-classifer/requirements.txt (line 2)) (2.9.0.post0)\n",
      "Requirement already satisfied: tzdata>=2022.7 in /workspace/.pyenv_mirror/user/current/lib/python3.10/site-packages (from pandas>=2.0->-r /workspace/manned-unmanned-airplane-classifer/requirements.txt (line 2)) (2025.2)\n",
      "Requirement already satisfied: pytz>=2020.1 in /workspace/.pyenv_mirror/user/current/lib/python3.10/site-packages (from pandas>=2.0->-r /workspace/manned-unmanned-airplane-classifer/requirements.txt (line 2)) (2025.2)\n",
      "Requirement already satisfied: threadpoolctl>=3.1.0 in /workspace/.pyenv_mirror/user/current/lib/python3.10/site-packages (from scikit-learn>=1.3->-r /workspace/manned-unmanned-airplane-classifer/requirements.txt (line 3)) (3.6.0)\n",
      "Requirement already satisfied: scipy>=1.8.0 in /workspace/.pyenv_mirror/user/current/lib/python3.10/site-packages (from scikit-learn>=1.3->-r /workspace/manned-unmanned-airplane-classifer/requirements.txt (line 3)) (1.15.3)\n",
      "Requirement already satisfied: cycler>=0.10 in /workspace/.pyenv_mirror/user/current/lib/python3.10/site-packages (from matplotlib>=3.7->-r /workspace/manned-unmanned-airplane-classifer/requirements.txt (line 5)) (0.12.1)\n",
      "Requirement already satisfied: pillow>=8 in /workspace/.pyenv_mirror/user/current/lib/python3.10/site-packages (from matplotlib>=3.7->-r /workspace/manned-unmanned-airplane-classifer/requirements.txt (line 5)) (11.2.1)\n",
      "Requirement already satisfied: pyparsing>=2.3.1 in /usr/lib/python3/dist-packages (from matplotlib>=3.7->-r /workspace/manned-unmanned-airplane-classifer/requirements.txt (line 5)) (2.4.7)\n",
      "Requirement already satisfied: contourpy>=1.0.1 in /workspace/.pyenv_mirror/user/current/lib/python3.10/site-packages (from matplotlib>=3.7->-r /workspace/manned-unmanned-airplane-classifer/requirements.txt (line 5)) (1.3.2)\n",
      "Requirement already satisfied: kiwisolver>=1.3.1 in /workspace/.pyenv_mirror/user/current/lib/python3.10/site-packages (from matplotlib>=3.7->-r /workspace/manned-unmanned-airplane-classifer/requirements.txt (line 5)) (1.4.8)\n",
      "Requirement already satisfied: fonttools>=4.22.0 in /workspace/.pyenv_mirror/user/current/lib/python3.10/site-packages (from matplotlib>=3.7->-r /workspace/manned-unmanned-airplane-classifer/requirements.txt (line 5)) (4.58.4)\n",
      "Requirement already satisfied: packaging>=20.0 in /workspace/.pyenv_mirror/user/current/lib/python3.10/site-packages (from matplotlib>=3.7->-r /workspace/manned-unmanned-airplane-classifer/requirements.txt (line 5)) (25.0)\n",
      "Requirement already satisfied: six>=1.5 in /usr/lib/python3/dist-packages (from python-dateutil>=2.8.2->pandas>=2.0->-r /workspace/manned-unmanned-airplane-classifer/requirements.txt (line 2)) (1.16.0)\n",
      "Note: you may need to restart the kernel to use updated packages.\n"
     ]
    }
   ],
   "source": [
    "%pip install -r /workspace/manned-unmanned-airplane-classifer/requirements.txt"
   ]
  },
  {
   "cell_type": "markdown",
   "metadata": {},
   "source": [
    "---"
   ]
  },
  {
   "cell_type": "markdown",
   "metadata": {},
   "source": [
    "# Change working directory"
   ]
  },
  {
   "cell_type": "markdown",
   "metadata": {},
   "source": [
    "* We are assuming you will store the notebooks in a subfolder, therefore when running the notebook in the editor, you will need to change the working directory.  \n",
    "\n",
    "We need to change the working directory from its current folder to its parent folder\n",
    "* We access the current directory with os.getcwd()"
   ]
  },
  {
   "cell_type": "code",
   "execution_count": 2,
   "metadata": {},
   "outputs": [
    {
     "data": {
      "text/plain": [
       "'/workspace/manned-unmanned-airplane-classifer/jupyter_notebooks'"
      ]
     },
     "execution_count": 2,
     "metadata": {},
     "output_type": "execute_result"
    }
   ],
   "source": [
    "import os\n",
    "current_dir = os.getcwd()\n",
    "current_dir"
   ]
  },
  {
   "cell_type": "markdown",
   "metadata": {},
   "source": [
    "We want to make the parent of the current directory the new current directory.\n",
    "* os.path.dirname() gets the parent directory\n",
    "* os.chir() defines the new current directory"
   ]
  },
  {
   "cell_type": "code",
   "execution_count": 3,
   "metadata": {},
   "outputs": [
    {
     "name": "stdout",
     "output_type": "stream",
     "text": [
      "You set a new current directory\n"
     ]
    }
   ],
   "source": [
    "os.chdir(os.path.dirname(current_dir))\n",
    "print(\"You set a new current directory\")"
   ]
  },
  {
   "cell_type": "markdown",
   "metadata": {},
   "source": [
    "Confirm the new current directory"
   ]
  },
  {
   "cell_type": "code",
   "execution_count": 4,
   "metadata": {},
   "outputs": [
    {
     "data": {
      "text/plain": [
       "'/workspace/manned-unmanned-airplane-classifer'"
      ]
     },
     "execution_count": 4,
     "metadata": {},
     "output_type": "execute_result"
    }
   ],
   "source": [
    "current_dir = os.getcwd()\n",
    "current_dir"
   ]
  },
  {
   "cell_type": "markdown",
   "metadata": {},
   "source": [
    "---"
   ]
  },
  {
   "cell_type": "code",
   "execution_count": null,
   "metadata": {},
   "outputs": [],
   "source": [
    "import joblib\n",
    "import os\n",
    "\n",
    "import numpy as np\n",
    "import pandas as pd\n",
    "from sklearn.model_selection import train_test_split\n",
    "from sklearn.preprocessing import StandardScaler\n",
    "from sklearn.neighbors import KNeighborsClassifier\n",
    "from sklearn.ensemble import RandomForestClassifier\n",
    "from sklearn.svm import SVC\n",
    "from sklearn.neural_network import MLPClassifier\n",
    "from sklearn.metrics import accuracy_score\n",
    "import matplotlib.pyplot as plt\n",
    "from sklearn.model_selection import KFold, LeaveOneOut, cross_val_score\n",
    "from sklearn.pipeline import make_pipeline"
   ]
  },
  {
   "cell_type": "markdown",
   "metadata": {},
   "source": [
    "---"
   ]
  },
  {
   "cell_type": "markdown",
   "metadata": {},
   "source": [
    "## Table of Content\n",
    "\n",
    "- [Section 1](#section-1)\n",
    "- [Section 2](#section-2)\n",
    "- [Save files to workspace](#save-files-to-workspace)\n"
   ]
  },
  {
   "cell_type": "markdown",
   "metadata": {},
   "source": [
    "---"
   ]
  },
  {
   "cell_type": "markdown",
   "metadata": {},
   "source": [
    "# Biplanes vs Monoplanes from 1930s to early 1940s"
   ]
  },
  {
   "cell_type": "markdown",
   "metadata": {},
   "source": [
    "Step 1 - Define our data set"
   ]
  },
  {
   "cell_type": "code",
   "execution_count": 13,
   "metadata": {},
   "outputs": [],
   "source": [
    "data = {\n",
    "    'Wingspan': [\n",
    "        9.8, 10.0, 9.7, 11.4, 9.4, 7.9, 8.9, 9.5, 13.9, 9.8,  # Biplanes\n",
    "        11.3, 9.0, 12.2, 9.8, 10.6, 11.0, 10.7, 11.0, 10.5, 10.0  # Monoplanes\n",
    "    ],\n",
    "    'MaxSpeed': [\n",
    "        414, 430, 441, 295, 195, 183, 175, 370, 222, 210,  # Biplanes\n",
    "        470, 525, 547, 470, 500, 460, 390, 510, 520, 592   # Monoplanes\n",
    "    ],\n",
    "    'Weight': [\n",
    "        2300, 2200, 2300, 2800, 1700, 670, 830, 1650, 3500, 1220,  # Biplanes\n",
    "        2200, 2000, 2950, 2400, 2450, 2350, 2000, 2600, 2800, 2700  # Monoplanes\n",
    "    ],\n",
    "    'Label': [\n",
    "        0, 0, 0, 0, 0, 0, 0, 0, 0, 0,  # Biplanes\n",
    "        1, 1, 1, 1, 1, 1, 1, 1, 1, 1   # Monoplanes\n",
    "    ]\n",
    "}"
   ]
  },
  {
   "cell_type": "markdown",
   "metadata": {},
   "source": [
    "data = {\n",
    "    'Wingspan': [\n",
    "        8.5, 7.2, 8.1, 9.0, 8.2, 8.6, 11.9, 8.1, 10.6, 14.3,  # WWI\n",
    "        9.9, 11.2, 11.3, 10.5, 12.2, 9.2, 11.0, 12.0, 9.8, 13.5  # WWII\n",
    "    ],\n",
    "    'MaxSpeed': [\n",
    "        185, 185, 210, 190, 177, 150, 198, 220, 165, 175,  # WWI\n",
    "        640, 594, 700, 685, 547, 655, 600, 533, 648, 509   # WWII\n",
    "    ],\n",
    "    'Weight': [\n",
    "        420, 410, 500, 470, 400, 520, 660, 640, 560, 920,  # WWI\n",
    "        2800, 2950, 3400, 3200, 2950, 2700, 2800, 2400, 3100, 4100  # WWII\n",
    "    ],\n",
    "    'Label': [\n",
    "        0, 0, 0, 0, 0, 0, 0, 0, 0, 0,  # WWI\n",
    "        1, 1, 1, 1, 1, 1, 1, 1, 1, 1   # WWII\n",
    "    ]\n",
    "}\n"
   ]
  },
  {
   "cell_type": "markdown",
   "metadata": {},
   "source": [
    "data = {\n",
    "    'Wingspan': [\n",
    "        0.35, 0.34, 0.42, 0.4, 0.7, 12, 20, 39.9, 19, 15,  # Drones\n",
    "        11, 10.7, 17.6, 35.8, 9.45, 68, 11.6, 11.7, 30.4, 14.8  # Manned\n",
    "    ],\n",
    "    'MaxSpeed': [\n",
    "        60, 55, 70, 58, 94, 220, 480, 630, 1100, 350,  # Drones\n",
    "        226, 230, 540, 850, 2400, 988, 285, 338, 956, 375  # Manned\n",
    "    ],\n",
    "    'Weight': [\n",
    "        1.2, 0.3, 1.1, 0.9, 3.4, 650, 2220, 14600, 20400, 5000,  # Drones\n",
    "        1111, 1157, 5670, 41413, 12000, 183500, 1150, 1542, 45000, 4900  # Manned\n",
    "    ],\n",
    "    'Label': [0]*10 + [1]*10  # 0 = Drone, 1 = Manned\n",
    "}\n"
   ]
  },
  {
   "cell_type": "markdown",
   "metadata": {},
   "source": [
    "Step 1b - Turn dataset into a dataframe (df is a DataFrame, which is a data structure from the Pandas library)"
   ]
  },
  {
   "cell_type": "code",
   "execution_count": 14,
   "metadata": {},
   "outputs": [],
   "source": [
    "df = pd.DataFrame(data)\n",
    "X = df[['Wingspan', 'MaxSpeed', 'Weight']]\n",
    "y = df['Label']"
   ]
  },
  {
   "cell_type": "markdown",
   "metadata": {},
   "source": [
    "witout looping over many hyperparameter values"
   ]
  },
  {
   "cell_type": "code",
   "execution_count": null,
   "metadata": {},
   "outputs": [],
   "source": [
    "# Define the cross-validation strategy\n",
    "kf = KFold(n_splits=5, shuffle=True, random_state=42)\n",
    "\n",
    "# Define models with standard scaling\n",
    "models = {\n",
    "    'KNN': make_pipeline(StandardScaler(), KNeighborsClassifier()),\n",
    "    'Random Forest': make_pipeline(StandardScaler(), RandomForestClassifier(random_state=42)),\n",
    "    'SVM': make_pipeline(StandardScaler(), SVC(random_state=42)),\n",
    "    'Neural Net': make_pipeline(StandardScaler(), MLPClassifier(max_iter=1000, random_state=42))\n",
    "}\n",
    "\n",
    "# Evaluate each model with cross-validation\n",
    "for name, model in models.items():\n",
    "    scores = cross_val_score(model, X, y, cv=kf, scoring='accuracy')\n",
    "    print(f\"{name} Accuracy: {scores.mean():.2f} (+/- {scores.std():.2f})\")\n"
   ]
  },
  {
   "cell_type": "markdown",
   "metadata": {},
   "source": [
    "iterate but withot Leave one out"
   ]
  },
  {
   "cell_type": "code",
   "execution_count": null,
   "metadata": {},
   "outputs": [],
   "source": [
    "# Your data (assumed defined)\n",
    "# X, y = ...\n",
    "\n",
    "# Cross-validation strategy\n",
    "kf = KFold(n_splits=5, shuffle=True, random_state=42)\n",
    "\n",
    "# Hyperparameters to test\n",
    "k_values = [1, 3, 5, 7, 9]\n",
    "\n",
    "# Store mean accuracy scores\n",
    "for k in k_values:\n",
    "    model = make_pipeline(StandardScaler(), KNeighborsClassifier(n_neighbors=k))\n",
    "    scores = cross_val_score(model, X, y, cv=kf, scoring='accuracy')\n",
    "    print(f\"KNN (k={k}) Accuracy: {scores.mean():.2f} (+/- {scores.std():.2f})\")\n"
   ]
  },
  {
   "cell_type": "markdown",
   "metadata": {},
   "source": [
    "looping but including leave one out"
   ]
  },
  {
   "cell_type": "code",
   "execution_count": null,
   "metadata": {},
   "outputs": [],
   "source": [
    "# Hyperparameter values to test\n",
    "k_values = [1, 3, 5, 7]\n",
    "\n",
    "# Leave-One-Out setup\n",
    "loo = LeaveOneOut()\n",
    "\n",
    "# Store average accuracy for each k\n",
    "k_scores = []\n",
    "\n",
    "for k in k_values:\n",
    "    model = KNeighborsClassifier(n_neighbors=k)\n",
    "    scores = []\n",
    "\n",
    "    for train_index, val_index in loo.split(X):\n",
    "        X_train, X_val = X[train_index], X[val_index]\n",
    "        y_train, y_val = y[train_index], y[val_index]\n",
    "        \n",
    "        model.fit(X_train, y_train)\n",
    "        y_pred = model.predict(X_val)\n",
    "        acc = accuracy_score(y_val, y_pred)\n",
    "        scores.append(acc)\n",
    "\n",
    "    mean_acc = np.mean(scores)\n",
    "    k_scores.append((k, mean_acc))\n",
    "\n",
    "# See which k performed best\n",
    "for k, score in k_scores:\n",
    "    print(f\"k={k}, LOO accuracy={score:.4f}\")"
   ]
  },
  {
   "cell_type": "code",
   "execution_count": null,
   "metadata": {},
   "outputs": [],
   "source": [
    "# Define cross-validation strategies\n",
    "kf = KFold(n_splits=5, shuffle=True, random_state=42)\n",
    "loo = LeaveOneOut()\n",
    "\n",
    "# Hyperparameters to test\n",
    "k_values = [1, 3, 5, 7]\n",
    "\n",
    "print(\"=== 5-Fold Cross-Validation ===\")\n",
    "for k in k_values:\n",
    "    model = make_pipeline(StandardScaler(), KNeighborsClassifier(n_neighbors=k))\n",
    "    scores = cross_val_score(model, X, y, cv=kf, scoring='accuracy')\n",
    "    print(f\"KNN (k={k}) Accuracy: {scores.mean():.2f} (+/- {scores.std():.2f})\")\n",
    "\n",
    "print(\"\\n=== Leave-One-Out Cross-Validation ===\")\n",
    "for k in k_values:\n",
    "    model = make_pipeline(StandardScaler(), KNeighborsClassifier(n_neighbors=k))\n",
    "    scores = cross_val_score(model, X, y, cv=loo, scoring='accuracy')\n",
    "    print(f\"KNN (k={k}) Accuracy: {scores.mean():.4f}\")"
   ]
  },
  {
   "cell_type": "code",
   "execution_count": null,
   "metadata": {},
   "outputs": [
    {
     "data": {
      "image/png": "[encoded data removed]",
      "text/plain": [
       "<Figure size 800x600 with 1 Axes>"
      ]
     },
     "metadata": {},
     "output_type": "display_data"
    }
   ],
   "source": [
    "plt.figure(figsize=(8, 6))\n",
    "scatter = plt.scatter(df['Wingspan'], df['Weight'], c=df['Label'], cmap='bwr', edgecolor='k', s=100)\n",
    "plt.xlabel(\"Wingspan (m)\")\n",
    "plt.ylabel(\"Weight (km/h)\")\n",
    "plt.title(\"Biplanes (red) vs Monoplanes (blue) — 1930s-40s\")\n",
    "plt.grid(True)\n",
    "plt.show()"
   ]
  },
  {
   "cell_type": "markdown",
   "metadata": {},
   "source": [
    "Train: 60–80%\n",
    "Validation: 10–20% (optional if using CV)\n",
    "Test: 10–20%\n",
    "\n",
    "🧠 Standard Splits (if you're not using CV):\n",
    "Set\tTypical %\n",
    "Train\t70–80%\n",
    "Validation\t10–15%\n",
    "Test\t10–15%\n",
    "\n",
    "Your model — including the choice of hyperparameters — has indirectly seen the test data"
   ]
  },
  {
   "cell_type": "markdown",
   "metadata": {},
   "source": [
    "It no longer reflects how well the model would do on truly unseen data\n",
    "\n",
    "Since the data set is so small (and we therefore need all the data we can get) lets do a cross validation to reduce variance.\n",
    "For the sake that we are using Old School ML algorithms like knn, decition trea and ... lets do CV\n",
    " \n",
    "KNN\n",
    "👉 Because KNN is very sensitive to the choice of k and to the data distribution — so CV helps get a stable, reliable evaluation.\n",
    "\n",
    "Decision Trees\n",
    "👉 High variance models. One split can overfit or underfit. Cross-validation balances that.\n",
    "\n",
    "Support Vector Machines (SVM)\n",
    "👉 To tune hyperparameters like C and gamma.\n",
    "\n",
    "Logistic Regression / Linear Models\n",
    "👉 Especially when data is limited, to tune regularization."
   ]
  },
  {
   "cell_type": "code",
   "execution_count": 17,
   "metadata": {},
   "outputs": [],
   "source": [
    "# Step 3: Preprocess (standardize features)\n",
    "scaler = StandardScaler()\n",
    "X_scaled = scaler.fit_transform(X)"
   ]
  },
  {
   "cell_type": "code",
   "execution_count": 18,
   "metadata": {},
   "outputs": [],
   "source": [
    "# Step 4: Train/test split\n",
    "X_train, X_test, y_train, y_test = train_test_split(X_scaled, y, test_size=0.3, random_state=42)"
   ]
  },
  {
   "cell_type": "code",
   "execution_count": 19,
   "metadata": {},
   "outputs": [],
   "source": [
    "# Step 5: Train models\n",
    "models = {\n",
    "    'KNN': KNeighborsClassifier(n_neighbors=3),\n",
    "    'Random Forest': RandomForestClassifier(n_estimators=10, random_state=42),\n",
    "    'SVM': SVC(kernel='rbf', probability=True),\n",
    "    'Neural Net': MLPClassifier(hidden_layer_sizes=(3,), activation='relu', max_iter=1000)\n",
    "}"
   ]
  },
  {
   "cell_type": "code",
   "execution_count": 20,
   "metadata": {},
   "outputs": [
    {
     "name": "stdout",
     "output_type": "stream",
     "text": [
      "KNN Accuracy: 0.50\n",
      "Random Forest Accuracy: 1.00\n",
      "SVM Accuracy: 0.67\n",
      "Neural Net Accuracy: 0.83\n"
     ]
    },
    {
     "name": "stderr",
     "output_type": "stream",
     "text": [
      "/workspace/.pyenv_mirror/user/current/lib/python3.10/site-packages/sklearn/neural_network/_multilayer_perceptron.py:780: ConvergenceWarning: Stochastic Optimizer: Maximum iterations (1000) reached and the optimization hasn't converged yet.\n",
      "  warnings.warn(\n"
     ]
    }
   ],
   "source": [
    "# Step 6: Fit and evaluate\n",
    "for name, model in models.items():\n",
    "    model.fit(X_train, y_train)\n",
    "    y_pred = model.predict(X_test)\n",
    "    acc = accuracy_score(y_test, y_pred)\n",
    "    print(f\"{name} Accuracy: {acc:.2f}\")"
   ]
  },
  {
   "cell_type": "code",
   "execution_count": 21,
   "metadata": {},
   "outputs": [
    {
     "data": {
      "image/png": "[encoded data removed]",
      "text/plain": [
       "<Figure size 800x600 with 1 Axes>"
      ]
     },
     "metadata": {},
     "output_type": "display_data"
    }
   ],
   "source": [
    "df = pd.DataFrame(data)\n",
    "\n",
    "plt.figure(figsize=(8, 6))\n",
    "scatter = plt.scatter(df['Wingspan'], df['Weight'], c=df['Label'], cmap='bwr', edgecolor='k', s=100)\n",
    "plt.xlabel(\"Wingspan (m)\")\n",
    "plt.ylabel(\"Weight (kg)\")\n",
    "plt.title(\"Aircraft Dataset: Drones vs Manned (Wingspan vs Weight)\")\n",
    "plt.grid(True)\n",
    "plt.legend(*scatter.legend_elements(), title=\"Label\\n(0=Drone, 1=Manned)\")\n",
    "plt.tight_layout()\n",
    "plt.show()"
   ]
  },
  {
   "cell_type": "markdown",
   "metadata": {},
   "source": [
    "---"
   ]
  },
  {
   "cell_type": "markdown",
   "metadata": {},
   "source": [
    "# Section 2"
   ]
  },
  {
   "cell_type": "markdown",
   "metadata": {},
   "source": [
    "\n",
    "Section 2 content"
   ]
  },
  {
   "cell_type": "markdown",
   "metadata": {},
   "source": [
    "---"
   ]
  },
  {
   "cell_type": "markdown",
   "metadata": {},
   "source": [
    "# Save files to workspace"
   ]
  },
  {
   "cell_type": "markdown",
   "metadata": {},
   "source": [
    "We will generate the following files\n",
    "* Train set\n",
    "* Test set\n",
    "* Data cleaning and Feature Engineering pipeline\n",
    "* Modeling pipeline\n",
    "* etc."
   ]
  },
  {
   "cell_type": "code",
   "execution_count": null,
   "metadata": {},
   "outputs": [],
   "source": [
    "topic = 'topic'  # datasets\n",
    "notebook = 'notebook'  # collections\n",
    "version = 'v1'\n",
    "file_path = f'outputs/{notebook}/{notebook}/{version}'\n",
    "\n",
    "try:\n",
    "    os.makedirs(name=file_path)\n",
    "except Exception as e:\n",
    "    print(e)"
   ]
  },
  {
   "cell_type": "code",
   "execution_count": null,
   "metadata": {},
   "outputs": [],
   "source": [
    "import os\n",
    "try:\n",
    "  os.makedirs(name='outputs/datasets/collection') # create outputs/datasets/collection folder\n",
    "except Exception as e:\n",
    "  print(e)\n",
    "\n",
    "df.to_csv(f\"outputs/datasets/collection/TelcoCustomerChurn.csv\",index=False)"
   ]
  },
  {
   "cell_type": "markdown",
   "metadata": {},
   "source": [
    "## Train Set"
   ]
  },
  {
   "cell_type": "markdown",
   "metadata": {},
   "source": [
    "Note that ..."
   ]
  },
  {
   "cell_type": "code",
   "execution_count": null,
   "metadata": {},
   "outputs": [],
   "source": [
    "print(X_train.shape)\n",
    "X_train.head()"
   ]
  },
  {
   "cell_type": "markdown",
   "metadata": {},
   "source": [
    "X_train.to_csv(f\"{file_path}/X_train.csv\", index=False)"
   ]
  },
  {
   "cell_type": "code",
   "execution_count": null,
   "metadata": {},
   "outputs": [],
   "source": [
    "y_train"
   ]
  },
  {
   "cell_type": "code",
   "execution_count": null,
   "metadata": {},
   "outputs": [],
   "source": [
    "y_train.to_csv(f\"{file_path}/y_train.csv\", index=False)"
   ]
  }
 ],
 "metadata": {
  "kernelspec": {
   "display_name": "Python 3",
   "language": "python",
   "name": "python3"
  },
  "language_info": {
   "codemirror_mode": {
    "name": "ipython",
    "version": 3
   },
   "file_extension": ".py",
   "mimetype": "text/x-python",
   "name": "python",
   "nbconvert_exporter": "python",
   "pygments_lexer": "ipython3",
   "version": "3.10.12"
  }
 },
 "nbformat": 4,
 "nbformat_minor": 2
}
