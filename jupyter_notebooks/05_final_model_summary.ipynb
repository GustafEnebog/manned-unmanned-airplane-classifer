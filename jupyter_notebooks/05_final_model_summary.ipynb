{
 "cells": [
  {
   "cell_type": "markdown",
   "metadata": {},
   "source": [
    "# **ADD HERE THE NOTEBOOK NAME**"
   ]
  },
  {
   "cell_type": "markdown",
   "metadata": {},
   "source": [
    "## Objectives\n",
    "\n",
    "* Write here your notebook objective, for example, \"Fetch data from Kaggle and save as raw data\", or \"engineer features for modelling\"\n",
    "\n",
    "## Inputs\n",
    "\n",
    "* Write here which data or information you need to run the notebook\n",
    "\n",
    "## Outputs\n",
    "\n",
    "* Write here which files, code or artefacts you generate by the end of the notebook\n",
    "\n",
    "## Additional Comments\n",
    "\n",
    "\n",
    "* In case you have any additional comments that don't fit in the previous bullets, please state them here.\n"
   ]
  },
  {
   "cell_type": "markdown",
   "metadata": {},
   "source": [
    "---"
   ]
  },
  {
   "cell_type": "markdown",
   "metadata": {},
   "source": [
    "# Install python packages in the notebooks"
   ]
  },
  {
   "cell_type": "markdown",
   "metadata": {},
   "source": [
    "<span style=\"color:red;\">IMPORTANT!!! Change \"ml-template-forked\" to the name that you have given your GitHub/GitPod Workspace.</span>"
   ]
  },
  {
   "cell_type": "code",
   "execution_count": 1,
   "metadata": {},
   "outputs": [
    {
     "name": "stdout",
     "output_type": "stream",
     "text": [
      "Defaulting to user installation because normal site-packages is not writeable\n",
      "Requirement already satisfied: numpy>=1.25 in /workspace/.pyenv_mirror/user/current/lib/python3.10/site-packages (from -r /workspace/manned-unmanned-airplane-classifer/requirements.txt (line 1)) (2.2.6)\n",
      "Requirement already satisfied: pandas>=2.0 in /workspace/.pyenv_mirror/user/current/lib/python3.10/site-packages (from -r /workspace/manned-unmanned-airplane-classifer/requirements.txt (line 2)) (2.3.0)\n",
      "Requirement already satisfied: scikit-learn>=1.3 in /workspace/.pyenv_mirror/user/current/lib/python3.10/site-packages (from -r /workspace/manned-unmanned-airplane-classifer/requirements.txt (line 3)) (1.7.0)\n",
      "Requirement already satisfied: joblib>=1.3 in /workspace/.pyenv_mirror/user/current/lib/python3.10/site-packages (from -r /workspace/manned-unmanned-airplane-classifer/requirements.txt (line 4)) (1.5.1)\n",
      "Requirement already satisfied: matplotlib>=3.7 in /workspace/.pyenv_mirror/user/current/lib/python3.10/site-packages (from -r /workspace/manned-unmanned-airplane-classifer/requirements.txt (line 5)) (3.10.3)\n",
      "Requirement already satisfied: python-dateutil>=2.8.2 in /workspace/.pyenv_mirror/user/current/lib/python3.10/site-packages (from pandas>=2.0->-r /workspace/manned-unmanned-airplane-classifer/requirements.txt (line 2)) (2.9.0.post0)\n",
      "Requirement already satisfied: tzdata>=2022.7 in /workspace/.pyenv_mirror/user/current/lib/python3.10/site-packages (from pandas>=2.0->-r /workspace/manned-unmanned-airplane-classifer/requirements.txt (line 2)) (2025.2)\n",
      "Requirement already satisfied: pytz>=2020.1 in /workspace/.pyenv_mirror/user/current/lib/python3.10/site-packages (from pandas>=2.0->-r /workspace/manned-unmanned-airplane-classifer/requirements.txt (line 2)) (2025.2)\n",
      "Requirement already satisfied: threadpoolctl>=3.1.0 in /workspace/.pyenv_mirror/user/current/lib/python3.10/site-packages (from scikit-learn>=1.3->-r /workspace/manned-unmanned-airplane-classifer/requirements.txt (line 3)) (3.6.0)\n",
      "Requirement already satisfied: scipy>=1.8.0 in /workspace/.pyenv_mirror/user/current/lib/python3.10/site-packages (from scikit-learn>=1.3->-r /workspace/manned-unmanned-airplane-classifer/requirements.txt (line 3)) (1.15.3)\n",
      "Requirement already satisfied: cycler>=0.10 in /workspace/.pyenv_mirror/user/current/lib/python3.10/site-packages (from matplotlib>=3.7->-r /workspace/manned-unmanned-airplane-classifer/requirements.txt (line 5)) (0.12.1)\n",
      "Requirement already satisfied: pillow>=8 in /workspace/.pyenv_mirror/user/current/lib/python3.10/site-packages (from matplotlib>=3.7->-r /workspace/manned-unmanned-airplane-classifer/requirements.txt (line 5)) (11.2.1)\n",
      "Requirement already satisfied: pyparsing>=2.3.1 in /usr/lib/python3/dist-packages (from matplotlib>=3.7->-r /workspace/manned-unmanned-airplane-classifer/requirements.txt (line 5)) (2.4.7)\n",
      "Requirement already satisfied: contourpy>=1.0.1 in /workspace/.pyenv_mirror/user/current/lib/python3.10/site-packages (from matplotlib>=3.7->-r /workspace/manned-unmanned-airplane-classifer/requirements.txt (line 5)) (1.3.2)\n",
      "Requirement already satisfied: kiwisolver>=1.3.1 in /workspace/.pyenv_mirror/user/current/lib/python3.10/site-packages (from matplotlib>=3.7->-r /workspace/manned-unmanned-airplane-classifer/requirements.txt (line 5)) (1.4.8)\n",
      "Requirement already satisfied: fonttools>=4.22.0 in /workspace/.pyenv_mirror/user/current/lib/python3.10/site-packages (from matplotlib>=3.7->-r /workspace/manned-unmanned-airplane-classifer/requirements.txt (line 5)) (4.58.4)\n",
      "Requirement already satisfied: packaging>=20.0 in /workspace/.pyenv_mirror/user/current/lib/python3.10/site-packages (from matplotlib>=3.7->-r /workspace/manned-unmanned-airplane-classifer/requirements.txt (line 5)) (25.0)\n",
      "Requirement already satisfied: six>=1.5 in /usr/lib/python3/dist-packages (from python-dateutil>=2.8.2->pandas>=2.0->-r /workspace/manned-unmanned-airplane-classifer/requirements.txt (line 2)) (1.16.0)\n",
      "Note: you may need to restart the kernel to use updated packages.\n"
     ]
    }
   ],
   "source": [
    "%pip install -r /workspace/manned-unmanned-airplane-classifer/requirements.txt"
   ]
  },
  {
   "cell_type": "markdown",
   "metadata": {},
   "source": [
    "---"
   ]
  },
  {
   "cell_type": "markdown",
   "metadata": {},
   "source": [
    "# Change working directory"
   ]
  },
  {
   "cell_type": "markdown",
   "metadata": {},
   "source": [
    "* We are assuming you will store the notebooks in a subfolder, therefore when running the notebook in the editor, you will need to change the working directory.  \n",
    "\n",
    "We need to change the working directory from its current folder to its parent folder\n",
    "* We access the current directory with os.getcwd()"
   ]
  },
  {
   "cell_type": "code",
   "execution_count": 2,
   "metadata": {},
   "outputs": [
    {
     "data": {
      "text/plain": [
       "'/workspace/manned-unmanned-airplane-classifer/jupyter_notebooks'"
      ]
     },
     "execution_count": 2,
     "metadata": {},
     "output_type": "execute_result"
    }
   ],
   "source": [
    "import os\n",
    "current_dir = os.getcwd()\n",
    "current_dir"
   ]
  },
  {
   "cell_type": "markdown",
   "metadata": {},
   "source": [
    "We want to make the parent of the current directory the new current directory.\n",
    "* os.path.dirname() gets the parent directory\n",
    "* os.chir() defines the new current directory"
   ]
  },
  {
   "cell_type": "code",
   "execution_count": 3,
   "metadata": {},
   "outputs": [
    {
     "name": "stdout",
     "output_type": "stream",
     "text": [
      "You set a new current directory\n"
     ]
    }
   ],
   "source": [
    "os.chdir(os.path.dirname(current_dir))\n",
    "print(\"You set a new current directory\")"
   ]
  },
  {
   "cell_type": "markdown",
   "metadata": {},
   "source": [
    "Confirm the new current directory"
   ]
  },
  {
   "cell_type": "code",
   "execution_count": 4,
   "metadata": {},
   "outputs": [
    {
     "data": {
      "text/plain": [
       "'/workspace/manned-unmanned-airplane-classifer'"
      ]
     },
     "execution_count": 4,
     "metadata": {},
     "output_type": "execute_result"
    }
   ],
   "source": [
    "current_dir = os.getcwd()\n",
    "current_dir"
   ]
  },
  {
   "cell_type": "markdown",
   "metadata": {},
   "source": [
    "---"
   ]
  },
  {
   "cell_type": "code",
   "execution_count": null,
   "metadata": {},
   "outputs": [],
   "source": []
  },
  {
   "cell_type": "markdown",
   "metadata": {},
   "source": [
    "---"
   ]
  },
  {
   "cell_type": "markdown",
   "metadata": {},
   "source": [
    "## Table of Content\n",
    "\n",
    "- [Section 1](#section-1)\n",
    "- [Section 2](#section-2)\n",
    "- [Save files to workspace](#save-files-to-workspace)\n"
   ]
  },
  {
   "cell_type": "markdown",
   "metadata": {},
   "source": [
    "---"
   ]
  },
  {
   "cell_type": "code",
   "execution_count": null,
   "metadata": {},
   "outputs": [],
   "source": [
    "# --- Step 1: Import Libraries\n",
    "import joblib\n",
    "import pandas as pd\n",
    "from sklearn.metrics import classification_report, confusion_matrix\n",
    "import seaborn as sns\n",
    "import matplotlib.pyplot as plt"
   ]
  },
  {
   "cell_type": "markdown",
   "metadata": {},
   "source": [
    "# Biplanes vs Monoplanes from 1930s to early 1940s"
   ]
  },
  {
   "cell_type": "code",
   "execution_count": null,
   "metadata": {},
   "outputs": [],
   "source": [
    "# --- Step 2: Load Test Data and Models\n",
    "X_train, X_test, y_train, y_test = joblib.load('aircraft_data_scaled.pkl')\n",
    "models = {\n",
    "    'KNN': joblib.load('model_knn.pkl'),\n",
    "    'Random Forest': joblib.load('model_random_forest.pkl'),\n",
    "    'SVM': joblib.load('model_svm.pkl'),\n",
    "    'Neural Net': joblib.load('model_neural_net.pkl')\n",
    "}"
   ]
  },
  {
   "cell_type": "code",
   "execution_count": null,
   "metadata": {},
   "outputs": [],
   "source": [
    "# --- Step 3: Evaluate and Compare All Models\n",
    "summary = []\n",
    "for name, model in models.items():\n",
    "    y_pred = model.predict(X_test)\n",
    "    report = classification_report(y_test, y_pred, output_dict=True)\n",
    "    summary.append({\n",
    "        'Model': name,\n",
    "        'Accuracy': report['accuracy'],\n",
    "        'Precision (class 0)': report['0']['precision'],\n",
    "        'Recall (class 0)': report['0']['recall'],\n",
    "        'Precision (class 1)': report['1']['precision'],\n",
    "        'Recall (class 1)': report['1']['recall']\n",
    "    })\n",
    "\n",
    "summary_df = pd.DataFrame(summary)\n",
    "print(summary_df.round(2))"
   ]
  },
  {
   "cell_type": "code",
   "execution_count": null,
   "metadata": {},
   "outputs": [],
   "source": [
    "# --- Step 4: Confusion Matrix Visualization for Best Model\n",
    "best_model_name = summary_df.sort_values(by='Accuracy', ascending=False).iloc[0]['Model']\n",
    "print(f\"\\nBest Model: {best_model_name}\")\n",
    "\n",
    "best_model = models[best_model_name]\n",
    "y_pred = best_model.predict(X_test)\n",
    "cm = confusion_matrix(y_test, y_pred)\n",
    "sns.heatmap(cm, annot=True, fmt='d', cmap='Blues')\n",
    "plt.title(f'Confusion Matrix - {best_model_name}')\n",
    "plt.xlabel('Predicted')\n",
    "plt.ylabel('Actual')\n",
    "plt.show()\n"
   ]
  },
  {
   "cell_type": "markdown",
   "metadata": {},
   "source": [
    "---"
   ]
  },
  {
   "cell_type": "markdown",
   "metadata": {},
   "source": [
    "# Section 2"
   ]
  },
  {
   "cell_type": "markdown",
   "metadata": {},
   "source": [
    "\n",
    "Section 2 content"
   ]
  },
  {
   "cell_type": "markdown",
   "metadata": {},
   "source": [
    "---"
   ]
  },
  {
   "cell_type": "markdown",
   "metadata": {},
   "source": [
    "# Save files to workspace"
   ]
  },
  {
   "cell_type": "markdown",
   "metadata": {},
   "source": [
    "We will generate the following files\n",
    "* Train set\n",
    "* Test set\n",
    "* Data cleaning and Feature Engineering pipeline\n",
    "* Modeling pipeline\n",
    "* etc."
   ]
  },
  {
   "cell_type": "code",
   "execution_count": null,
   "metadata": {},
   "outputs": [],
   "source": [
    "topic = 'topic'  # datasets\n",
    "notebook = 'notebook'  # collections\n",
    "version = 'v1'\n",
    "file_path = f'outputs/{notebook}/{notebook}/{version}'\n",
    "\n",
    "try:\n",
    "    os.makedirs(name=file_path)\n",
    "except Exception as e:\n",
    "    print(e)"
   ]
  },
  {
   "cell_type": "code",
   "execution_count": null,
   "metadata": {},
   "outputs": [],
   "source": [
    "import os\n",
    "try:\n",
    "  os.makedirs(name='outputs/datasets/collection') # create outputs/datasets/collection folder\n",
    "except Exception as e:\n",
    "  print(e)\n",
    "\n",
    "df.to_csv(f\"outputs/datasets/collection/TelcoCustomerChurn.csv\",index=False)"
   ]
  },
  {
   "cell_type": "markdown",
   "metadata": {},
   "source": [
    "## Train Set"
   ]
  },
  {
   "cell_type": "markdown",
   "metadata": {},
   "source": [
    "Note that ..."
   ]
  },
  {
   "cell_type": "code",
   "execution_count": null,
   "metadata": {},
   "outputs": [],
   "source": [
    "print(X_train.shape)\n",
    "X_train.head()"
   ]
  },
  {
   "cell_type": "markdown",
   "metadata": {},
   "source": [
    "X_train.to_csv(f\"{file_path}/X_train.csv\", index=False)"
   ]
  },
  {
   "cell_type": "code",
   "execution_count": null,
   "metadata": {},
   "outputs": [],
   "source": [
    "y_train"
   ]
  },
  {
   "cell_type": "code",
   "execution_count": null,
   "metadata": {},
   "outputs": [],
   "source": [
    "y_train.to_csv(f\"{file_path}/y_train.csv\", index=False)"
   ]
  }
 ],
 "metadata": {
  "kernelspec": {
   "display_name": "Python 3",
   "language": "python",
   "name": "python3"
  },
  "language_info": {
   "codemirror_mode": {
    "name": "ipython",
    "version": 3
   },
   "file_extension": ".py",
   "mimetype": "text/x-python",
   "name": "python",
   "nbconvert_exporter": "python",
   "pygments_lexer": "ipython3",
   "version": "3.10.12"
  }
 },
 "nbformat": 4,
 "nbformat_minor": 2
}
